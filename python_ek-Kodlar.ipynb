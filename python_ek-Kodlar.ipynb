{
 "cells": [
  {
   "cell_type": "markdown",
   "id": "52abee01",
   "metadata": {},
   "source": [
    "    int    / int \n",
    "    string / string \n",
    "    float  / float \n",
    "    boolen / bool "
   ]
  },
  {
   "cell_type": "code",
   "execution_count": null,
   "id": "340ee823",
   "metadata": {},
   "outputs": [],
   "source": [
    "fiyat = 120000\n",
    "vergi = 0.18\n",
    "oran = a*b\n",
    "print(fiyat+oran)"
   ]
  },
  {
   "cell_type": "code",
   "execution_count": null,
   "id": "2ea84e99",
   "metadata": {},
   "outputs": [],
   "source": [
    "ad='Ali Baba Aç Yattı'"
   ]
  },
  {
   "cell_type": "code",
   "execution_count": null,
   "id": "f9de4c92",
   "metadata": {},
   "outputs": [],
   "source": [
    "ad[4:8]"
   ]
  },
  {
   "cell_type": "code",
   "execution_count": null,
   "id": "710ffd3e",
   "metadata": {},
   "outputs": [],
   "source": [
    "ad[::2]"
   ]
  },
  {
   "cell_type": "code",
   "execution_count": null,
   "id": "cb64f6ae",
   "metadata": {},
   "outputs": [],
   "source": [
    "ad[::-1]"
   ]
  },
  {
   "cell_type": "code",
   "execution_count": null,
   "id": "2147826b",
   "metadata": {},
   "outputs": [],
   "source": [
    "r = float(input(\"Daire yarı çapı giriniz: \"))"
   ]
  },
  {
   "cell_type": "code",
   "execution_count": null,
   "id": "ccc0e68b",
   "metadata": {},
   "outputs": [],
   "source": [
    "pi=3.14"
   ]
  },
  {
   "cell_type": "code",
   "execution_count": null,
   "id": "22ba275a",
   "metadata": {},
   "outputs": [],
   "source": [
    "cevre=2*pi*r\n",
    "alan=pi*(r**2)"
   ]
  },
  {
   "cell_type": "code",
   "execution_count": null,
   "id": "2f49b442",
   "metadata": {},
   "outputs": [],
   "source": [
    "print(f\"Dairenin çevresi {cevre:1.3} ve Alanı {alan}\")"
   ]
  },
  {
   "cell_type": "code",
   "execution_count": null,
   "id": "10643b01",
   "metadata": {},
   "outputs": [],
   "source": [
    "liste1=[1,True,3.14,[alan,cevre]]"
   ]
  },
  {
   "cell_type": "code",
   "execution_count": null,
   "id": "89b0ad53",
   "metadata": {},
   "outputs": [],
   "source": [
    "print(liste1[3][1])"
   ]
  },
  {
   "cell_type": "code",
   "execution_count": null,
   "id": "398a982f",
   "metadata": {},
   "outputs": [],
   "source": [
    "liste1.append(5)"
   ]
  },
  {
   "cell_type": "code",
   "execution_count": null,
   "id": "2e95bbce",
   "metadata": {},
   "outputs": [],
   "source": [
    "print(liste1)"
   ]
  },
  {
   "cell_type": "code",
   "execution_count": null,
   "id": "2e992163",
   "metadata": {},
   "outputs": [],
   "source": [
    "a=float(input(\"ilk deger: \"))\n",
    "b=float(input(\"ikinci deger: \"))\n",
    "c=float(input(\"üçüncü deger: \"))"
   ]
  },
  {
   "cell_type": "code",
   "execution_count": null,
   "id": "ef9f1ade",
   "metadata": {},
   "outputs": [],
   "source": [
    "liste1.append(a)\n",
    "liste1.append(b)\n",
    "liste1.append(c)"
   ]
  },
  {
   "cell_type": "code",
   "execution_count": null,
   "id": "b1608094",
   "metadata": {},
   "outputs": [],
   "source": [
    "print(liste1)"
   ]
  },
  {
   "cell_type": "code",
   "execution_count": null,
   "id": "50a0a03e",
   "metadata": {},
   "outputs": [],
   "source": [
    "ilk_cevre=2*pi*liste1[5]\n",
    "iki_cevre=2*pi*liste1[6]\n",
    "ucuncu_cevre=2*pi*liste1[7]"
   ]
  },
  {
   "cell_type": "code",
   "execution_count": null,
   "id": "8be9e4b4",
   "metadata": {},
   "outputs": [],
   "source": [
    "alan1=pi*(liste1[5]**2)\n",
    "alan2=pi*(liste1[6]**2)\n",
    "alan3=pi*(liste1[7]**2)"
   ]
  },
  {
   "cell_type": "code",
   "execution_count": null,
   "id": "e26cdc6b",
   "metadata": {},
   "outputs": [],
   "source": [
    "print(f\"ilk cevre {ilk_cevre} ve alanı {alan1}, ikinci cevre {iki_cevre} ve alanı {alan2},üçüncü cevre {ucuncu_cevre} ve alanı {alan3}\")"
   ]
  },
  {
   "cell_type": "code",
   "execution_count": null,
   "id": "9ac1b71e",
   "metadata": {},
   "outputs": [],
   "source": [
    "for i in range(3):\n",
    "    print(i)"
   ]
  },
  {
   "cell_type": "code",
   "execution_count": null,
   "id": "14521176",
   "metadata": {},
   "outputs": [],
   "source": [
    "liste_daire = []\n",
    "pi = 3.14\n",
    "for i in range(3):\n",
    "    yaricap = float(input(\"yarıcap değerini giriniz: \"))\n",
    "    liste_daire.append(yaricap)\n",
    "print(liste_daire)"
   ]
  },
  {
   "cell_type": "code",
   "execution_count": null,
   "id": "47d35907",
   "metadata": {},
   "outputs": [],
   "source": [
    "for i in liste_daire:\n",
    "    cevre = 2*pi*i\n",
    "    alan = pi*i**2\n",
    "    print(f\"cevre {cevre} ve alan {alan}\")"
   ]
  },
  {
   "cell_type": "code",
   "execution_count": null,
   "id": "f9019257",
   "metadata": {},
   "outputs": [],
   "source": [
    "liste = [1, 2, 2, 2, 3, 4, 5, 6, 7, 8, 9, 10]"
   ]
  },
  {
   "cell_type": "code",
   "execution_count": null,
   "id": "611a6cd2",
   "metadata": {},
   "outputs": [],
   "source": [
    "\n",
    "i = 0\n",
    "\n",
    "while i < len(liste):\n",
    "    if liste[i] % 2 == 0:  # Eğer sayı çift ise\n",
    "        del liste[i]        # Listenin bu elemanını sil\n",
    "    else:\n",
    "        i += 1             # Eğer sayı tek ise bir sonraki elemana geç\n",
    "\n",
    "print(\"Sonuç:\", liste)\n"
   ]
  },
  {
   "cell_type": "code",
   "execution_count": null,
   "id": "d99c55e5",
   "metadata": {},
   "outputs": [],
   "source": [
    "liste_islem = []\n",
    "pi = 3.14\n",
    "for i in range(3):\n",
    "    yarıcap = float(input(\"Yarıcap değerini giriniz: \"))\n",
    "    liste_islem.append(yarıcap)\n",
    "print(liste_islem)"
   ]
  },
  {
   "cell_type": "code",
   "execution_count": null,
   "id": "0b26f016",
   "metadata": {},
   "outputs": [],
   "source": [
    "for i in liste_islem:\n",
    "    alan = 2*pi*i\n",
    "    cevre = pi*i**2\n",
    "    print(f\"alan {alan} ve cevre {cevre} dir:\")"
   ]
  },
  {
   "cell_type": "code",
   "execution_count": null,
   "id": "72835803",
   "metadata": {},
   "outputs": [],
   "source": [
    "\n",
    "for i in range(6):\n",
    "    i = i+(i*1)\n",
    "    print(i)"
   ]
  },
  {
   "cell_type": "code",
   "execution_count": null,
   "id": "2a2c08e3",
   "metadata": {},
   "outputs": [],
   "source": [
    "liste = [10,15,25,23,12,13]\n",
    "for i in liste:\n",
    "    if i == 15:\n",
    "        print(\"en sevdiğim sayı listede mevcut:)\")"
   ]
  },
  {
   "cell_type": "code",
   "execution_count": null,
   "id": "29ee4762",
   "metadata": {},
   "outputs": [],
   "source": [
    "liste = []\n",
    "for i in range(5):\n",
    "    deger = float(input(\"deger giriniz: \"))\n",
    "    c = deger**1/2\n",
    "    liste.append(c)\n",
    "liste.sort()\n",
    "liste.reverse()\n",
    "print(liste)"
   ]
  },
  {
   "cell_type": "code",
   "execution_count": null,
   "id": "0ad2ddcc",
   "metadata": {},
   "outputs": [],
   "source": [
    "liste = [1,2,3,4,5,6,6,7,8]\n",
    "i=0\n",
    "while i<len(liste):\n",
    "    if liste[i]%2==0:\n",
    "        liste.remove(liste[i])\n",
    "    else:\n",
    "        i+=1\n",
    "print(liste)\n"
   ]
  },
  {
   "cell_type": "code",
   "execution_count": null,
   "id": "2fd4fb00",
   "metadata": {},
   "outputs": [],
   "source": [
    "sayi = int(input(\"sayı giriniz: \"))\n",
    "for i in range(2,sayi):\n",
    "    if sayi % i==0:\n",
    "        print(\"sayı asal değildier.\")\n",
    "        break\n",
    "else:\n",
    "    print(\"Sayı asla dır:\")"
   ]
  },
  {
   "cell_type": "code",
   "execution_count": null,
   "id": "b8043ce2",
   "metadata": {},
   "outputs": [],
   "source": [
    "import numpy as np\n",
    "import matplotlib.pyplot as plot"
   ]
  },
  {
   "cell_type": "code",
   "execution_count": null,
   "id": "a63baa33",
   "metadata": {},
   "outputs": [],
   "source": [
    "def estimate_cof(x, y):\n",
    "    n = np.size(x)\n",
    "    \n",
    "    m_x = np.mean(x)\n",
    "    m_y = np.mean(y)\n",
    "    \n",
    "    SS_xy = np.sum(y*x) - n*m_y*m_x    \n",
    "    SS_xx = np.sum(x*x) - n*m_x*m_x\n",
    "    \n",
    "    b_1 = SS_xy / SS_xx\n",
    "    b_0 = m_y - b_1*m_x\n",
    "    \n",
    "    return(b_0, b_1)"
   ]
  },
  {
   "cell_type": "code",
   "execution_count": null,
   "id": "5ad9c0d0",
   "metadata": {},
   "outputs": [],
   "source": [
    "\n",
    "x = np.array([0, 1, 2, 3, 4, 5, 6, 7, 8, 9])\n",
    "y = np.array([1, 3, 2, 5, 7, 8, 8, 9, 10, 12])\n",
    "\n",
    "b = estimate_cof(x, y)\n",
    "print(\"Tahmini kat sayısı: \\nb_0 = {} \\\n",
    "    \\nb_1 = {}\".format(b[0],b[1]))\n",
    "    "
   ]
  },
  {
   "cell_type": "code",
   "execution_count": null,
   "id": "d1de5fb8",
   "metadata": {},
   "outputs": [],
   "source": [
    "import numpy as np\n",
    "import pandas as pd \n",
    "import seaborn as sns\n",
    "import matplotlib.pyplot as plt\n",
    "%matplotlib inline"
   ]
  },
  {
   "cell_type": "code",
   "execution_count": null,
   "id": "a0c258bc",
   "metadata": {},
   "outputs": [],
   "source": [
    "df2 = pd.read_csv('data/ex1data2.txt' ,sep = ',', header = None)\n",
    "df2.colums = ['house_size', 'bedrooms', 'house_price']\n",
    "df2.head()"
   ]
  },
  {
   "cell_type": "code",
   "execution_count": null,
   "id": "7eff9d4c",
   "metadata": {},
   "outputs": [],
   "source": [
    "sayilar = [1,3,5,7,9,11,13,22]"
   ]
  },
  {
   "cell_type": "code",
   "execution_count": null,
   "id": "9c38238d",
   "metadata": {},
   "outputs": [],
   "source": [
    "for i in sayilar:\n",
    "    if i % 3 == 0:\n",
    "        print(i)\n",
    "        "
   ]
  },
  {
   "cell_type": "code",
   "execution_count": null,
   "id": "63fe2eb9",
   "metadata": {},
   "outputs": [],
   "source": [
    "i=0\n",
    "while i<len(sayilar):\n",
    "    if sayilar[i]%3==0:\n",
    "        print(sayilar[i])\n",
    "    i+=1"
   ]
  },
  {
   "cell_type": "code",
   "execution_count": null,
   "id": "291124a0",
   "metadata": {},
   "outputs": [],
   "source": [
    "toplam = 0\n",
    "for i in sayilar:\n",
    "    toplam=i+toplam\n",
    "print(toplam)"
   ]
  },
  {
   "cell_type": "code",
   "execution_count": null,
   "id": "f210e328",
   "metadata": {},
   "outputs": [],
   "source": [
    "i=0\n",
    "toplam=0\n",
    "while i < len(sayilar):\n",
    "    toplam=toplam+sayilar[i]\n",
    "    i+=1\n",
    "print(toplam)\n",
    "    "
   ]
  },
  {
   "cell_type": "code",
   "execution_count": null,
   "id": "38590b86",
   "metadata": {},
   "outputs": [],
   "source": [
    "\n",
    "for i in sayilar:\n",
    "    if i%2==1:\n",
    "        print(i*i)"
   ]
  },
  {
   "cell_type": "code",
   "execution_count": null,
   "id": "e8774f69",
   "metadata": {},
   "outputs": [],
   "source": [
    "i=0\n",
    "while i<len(sayilar):\n",
    "    if sayilar[i]%2==1:\n",
    "        print(sayilar[i]**2)\n",
    "    i+=1"
   ]
  },
  {
   "cell_type": "code",
   "execution_count": null,
   "id": "bacb0137",
   "metadata": {},
   "outputs": [],
   "source": [
    "sehirler = [\"istanbul\",\"ankara\",\"izmir\",\"mus\",\"cankiri\"]\n",
    "i = 0\n",
    "while i<len(sehirler):\n",
    "    if (len(sehirler[i])<=5):\n",
    "        print(sehirler[i])\n",
    "    i+=1\n"
   ]
  },
  {
   "cell_type": "code",
   "execution_count": null,
   "id": "df0eeaa6",
   "metadata": {},
   "outputs": [],
   "source": [
    "for i in sehirler:\n",
    "    if len(i)<=5:\n",
    "        print(i)"
   ]
  },
  {
   "cell_type": "code",
   "execution_count": null,
   "id": "159b7e5a",
   "metadata": {},
   "outputs": [],
   "source": [
    "urun=[{\"ad\":\"s6\",\"fiyat\":\"3000\"},\n",
    "     {\"ad\":\"s7\",\"fiyat\":\"4000\"},\n",
    "     {\"ad\":\"s8\",\"fiyat\":\"5000\"},\n",
    "     {\"ad\":\"s9\",\"fiyat\":\"6000\"},\n",
    "     {\"ad\":\"s10\",\"fiyat\":\"7000\"}\n",
    "     ]"
   ]
  },
  {
   "cell_type": "code",
   "execution_count": null,
   "id": "19b2e24e",
   "metadata": {},
   "outputs": [],
   "source": [
    "for i in urun:\n",
    "    print(i)"
   ]
  },
  {
   "cell_type": "code",
   "execution_count": null,
   "id": "32371cdc",
   "metadata": {},
   "outputs": [],
   "source": [
    "# Tüm ürünlerin fiyatlarını toplamak için bir değişken oluşturalım\n",
    "toplam_fiyat = 0\n",
    "\n",
    "# Her bir ürün sözlüğü için döngü\n",
    "for i in urunler:\n",
    "    # Her bir ürünün fiyatını toplam fiyata ekleyelim\n",
    "    toplam_fiyat += int(i[\"fiyat\"])\n",
    "\n",
    "# Sonuçları yazdıralım\n",
    "print(\"Toplam Fiyat:\", toplam_fiyat)"
   ]
  },
  {
   "cell_type": "code",
   "execution_count": null,
   "id": "de181e66",
   "metadata": {},
   "outputs": [],
   "source": [
    "for i in urunler:\n",
    "    if int(i[\"fiyat\"])<=5000:\n",
    "        print(i[\"ad\"])"
   ]
  },
  {
   "cell_type": "code",
   "execution_count": null,
   "id": "c083941b",
   "metadata": {},
   "outputs": [],
   "source": [
    "sayi = int(input(\"sayı giriniz: \"))\n",
    "for i in range(2,sayi):\n",
    "    if sayi % i==0:\n",
    "        print(\"sayı asal değildier.\")\n",
    "        break\n",
    "else:\n",
    "    print(\"Sayı asla dır:\")"
   ]
  },
  {
   "cell_type": "code",
   "execution_count": null,
   "id": "074ee10c",
   "metadata": {},
   "outputs": [],
   "source": [
    "sayi=[]\n",
    "for i in range(2):\n",
    "    deger = int(input(\"degeri giriniz: \"))\n",
    "    sayi.append(deger)\n",
    "print(min(sayi))"
   ]
  },
  {
   "cell_type": "code",
   "execution_count": null,
   "id": "51b2af1f",
   "metadata": {},
   "outputs": [],
   "source": [
    "sayi=[]\n",
    "for i in range(3):\n",
    "    deger = int(input(\"degeri giriniz: \"))\n",
    "    sayi.append(deger)\n",
    "    sayi.sort()\n",
    "print(sayi)\n",
    "print(sayi[2])"
   ]
  },
  {
   "cell_type": "code",
   "execution_count": null,
   "id": "5fd93962",
   "metadata": {},
   "outputs": [],
   "source": [
    "x = int(input(\"degeri giriniz: \"))\n",
    "y = int(input(\"degeri giriniz: \"))\n",
    "z = int(input(\"degeri giriniz: \"))\n",
    "if x>z:\n",
    "    if x>y:\n",
    "        print(f\"en büyük deger {x}\")\n",
    "    else:\n",
    "        print(f\"en büyük deger {y}\")\n",
    "elif z>y:\n",
    "    print(f\"en büyük deger {z}\")\n",
    "else:\n",
    "    print(f\"en büyük deger {y}\") "
   ]
  },
  {
   "cell_type": "code",
   "execution_count": null,
   "id": "56ed3448",
   "metadata": {},
   "outputs": [],
   "source": [
    "x = int(input(\"degeri giriniz: \"))\n",
    "y = int(input(\"degeri giriniz: \"))\n",
    "z = int(input(\"degeri giriniz: \"))\n",
    "enBuyukSayi=max(x,y,z)\n",
    "print(enBuyukSayi)"
   ]
  },
  {
   "cell_type": "code",
   "execution_count": null,
   "id": "6c03b2b0",
   "metadata": {},
   "outputs": [],
   "source": [
    "x = int(input(\"degeri giriniz: \"))\n",
    "y = int(input(\"degeri giriniz: \"))\n",
    "if x%y==0:\n",
    "    print(\"ilk değer ikinci değere tam bölünür.\")\n",
    "else:\n",
    "    print(\"giridğiniz ikinci değer ilk değeri tam bölmemektedir\")"
   ]
  },
  {
   "cell_type": "code",
   "execution_count": null,
   "id": "176e1abf",
   "metadata": {},
   "outputs": [],
   "source": [
    "x = int(input(\"degeri giriniz: \"))\n",
    "y = int(input(\"degeri giriniz: \"))\n",
    "print(x**y)\n",
    "pow(x,y)"
   ]
  },
  {
   "cell_type": "code",
   "execution_count": null,
   "id": "03d18b94",
   "metadata": {},
   "outputs": [],
   "source": [
    "x = int(input(\"degeri giriniz: \"))\n",
    "if i in range(1,x):\n",
    "    if x%i==0:\n",
    "        print(\"girilen değer asal değildir\")\n",
    "    else:\n",
    "        print(\"girilen değer asaldır\")\n",
    "        "
   ]
  },
  {
   "cell_type": "code",
   "execution_count": null,
   "id": "26f3cee1",
   "metadata": {},
   "outputs": [],
   "source": [
    "import math\n",
    "x = int(input(\"degeri giriniz: \"))\n",
    "y = int(input(\"degeri giriniz: \"))\n",
    "ebob = math.gcd(x,y)\n",
    "ekok = int((x*y)/ebob)\n",
    "print(ebob)\n",
    "print(ekok)"
   ]
  },
  {
   "cell_type": "code",
   "execution_count": null,
   "id": "72e21608",
   "metadata": {},
   "outputs": [],
   "source": [
    "vize = int(input(\"vize notu giriniz: \"))\n",
    "final = int(input(\"final notu giriniz: \"))\n",
    "proje = int(input(\"proje notu giriniz: \"))\n",
    "\n",
    "ortalama = float(vize*0.3 + final*0.4 + proje*0.3)\n",
    "\n",
    "if 100>ortalama>=90:\n",
    "    print(ortalama, \"AA\")\n",
    "elif 90>ortalama>=80:\n",
    "    print(ortalama, \"BA\")\n",
    "elif 80>ortalama>=70:\n",
    "    print(ortalama, \"BB\")\n",
    "elif 70>ortalama>=60:\n",
    "    print(ortalama, \"CB\")\n",
    "elif 60>ortalama>=50:\n",
    "    print(ortalama, \"CC\")\n",
    "elif 50>ortalama>=45:\n",
    "    print(ortalama, \"DC\")\n",
    "elif 45>ortalama>=40:\n",
    "    print(ortalama, \"FD\")\n",
    "else:\n",
    "    print(ortalama, \"FF\")"
   ]
  },
  {
   "cell_type": "code",
   "execution_count": null,
   "id": "156d89e0",
   "metadata": {},
   "outputs": [],
   "source": [
    "liste = []\n",
    "for i in range(5):\n",
    "    deger = float(input(\"deger giriniz: \"))\n",
    "    if deger % 2 == 1:\n",
    "        liste.append(deger) # Method\n",
    "print(liste)"
   ]
  },
  {
   "cell_type": "code",
   "execution_count": null,
   "id": "2bd4db36",
   "metadata": {},
   "outputs": [],
   "source": [
    "def Selamlama(isim):\n",
    "    print(isim)"
   ]
  },
  {
   "cell_type": "code",
   "execution_count": null,
   "id": "7da14f8e",
   "metadata": {},
   "outputs": [],
   "source": [
    "Selamlama(\"Ali\")"
   ]
  },
  {
   "cell_type": "code",
   "execution_count": null,
   "id": "8807f5ae",
   "metadata": {},
   "outputs": [],
   "source": [
    "def Selamlama2(isim):\n",
    "    return (isim)"
   ]
  },
  {
   "cell_type": "code",
   "execution_count": null,
   "id": "5659f8bf",
   "metadata": {},
   "outputs": [],
   "source": [
    "def Toplama():\n",
    "    a=float(input(\"deger giriniz: \"))\n",
    "    b=float(input(\"deger giriniz: \"))\n",
    "    return (a+b)"
   ]
  },
  {
   "cell_type": "code",
   "execution_count": null,
   "id": "4da7f9ae",
   "metadata": {},
   "outputs": [],
   "source": [
    "deger = Toplama()**2\n",
    "print(deger)"
   ]
  },
  {
   "cell_type": "code",
   "execution_count": null,
   "id": "9ffe25dc",
   "metadata": {},
   "outputs": [],
   "source": [
    "boy = float(input(\"Bouyunuzu giriniz: \"))\n",
    "kilo = float(input(\"Kilo değerinizi giriniz: \"))\n",
    "vki = kilo/(boy*boy)\n",
    "if vki<= 18:\n",
    "    print(f\"Zayıf \\n {vki}\")\n",
    "elif 18<= vki <=25:\n",
    "    print(f\"Kilolu \\n {vki}\")\n",
    "elif 25<= vki <=30:\n",
    "    print(f\"obez \\n {vki}\")\n",
    "else:\n",
    "    print(f\"Ciddi obez \\n {vki}\")"
   ]
  },
  {
   "cell_type": "code",
   "execution_count": null,
   "id": "602feda8",
   "metadata": {},
   "outputs": [],
   "source": [
    "yas = int(input(\"Yaşınız giriniz: \"))\n",
    "if yas<18:\n",
    "    print(\"Ehliyet alamazsınız\")\n",
    "else:\n",
    "    print(\"Ehliyet alabilirsiniz\")"
   ]
  },
  {
   "cell_type": "code",
   "execution_count": null,
   "id": "c65a1c21",
   "metadata": {},
   "outputs": [],
   "source": [
    "for i in range(11):\n",
    "    print(i)"
   ]
  },
  {
   "cell_type": "code",
   "execution_count": null,
   "id": "e5fc7c28",
   "metadata": {},
   "outputs": [],
   "source": [
    "i = 0\n",
    "while i<=100:\n",
    "    if i%2!=0:\n",
    "        print(i)\n",
    "    i+=1"
   ]
  },
  {
   "cell_type": "code",
   "execution_count": null,
   "id": "c63f7aa0",
   "metadata": {},
   "outputs": [],
   "source": [
    "for i in range(101):\n",
    "    if i%3==0 or i%5==0:\n",
    "        print(i)"
   ]
  },
  {
   "cell_type": "code",
   "execution_count": null,
   "id": "726eafd2",
   "metadata": {},
   "outputs": [],
   "source": [
    "sayi = int(input(\"sayı giriniz: \"))\n",
    "for i in range(1,sayi+1):\n",
    "    print(i)"
   ]
  },
  {
   "cell_type": "code",
   "execution_count": null,
   "id": "ee9be6d2",
   "metadata": {},
   "outputs": [],
   "source": [
    "sayi = int(input(\"Sayi giriniz: \"))\n",
    "i=0\n",
    "while i<sayi:\n",
    "    i+=1\n",
    "    print(i)"
   ]
  },
  {
   "cell_type": "code",
   "execution_count": null,
   "id": "5624410c",
   "metadata": {},
   "outputs": [],
   "source": [
    "a = int(input(\"kısa kenar giriniz: \"))\n",
    "b = int(input(\"uzun kenar giriniz: \"))\n",
    "cevre = 2*(a+b)\n",
    "alan = a*b\n",
    "print(f\"girdiğiniz dikdörtgenin alanı= {alan}, çevresi= {cevre}\")"
   ]
  },
  {
   "cell_type": "code",
   "execution_count": null,
   "id": "9417445d",
   "metadata": {},
   "outputs": [],
   "source": [
    "r = float(input(\"yarıçap  giriniz: \"))\n",
    "pi = float(input(\"pi değerini giriniz: \"))\n",
    "cevre = 2*pi*r\n",
    "alan = pi*(pow(r,2))\n",
    "print(f\"girdiğiniz dairenin alanı= {alan}, çevresi= {cevre}\")"
   ]
  },
  {
   "cell_type": "code",
   "execution_count": null,
   "id": "d63db53d",
   "metadata": {},
   "outputs": [],
   "source": [
    "metin = input(\"isim giriniz: \")\n",
    "sayac = 0\n",
    "while sayac<len(metin):\n",
    "    print(metin[sayac])\n",
    "    sayac+=1\n"
   ]
  },
  {
   "cell_type": "code",
   "execution_count": null,
   "id": "33d91d3d",
   "metadata": {},
   "outputs": [],
   "source": [
    "a = int(input(\"sayı giriniz: \"))\n",
    "b = int(input(\"sayı giriniz: \"))\n",
    "toplam=0\n",
    "for i in range(a+1,b):\n",
    "    toplam = toplam+i\n",
    "print(toplam)"
   ]
  },
  {
   "cell_type": "code",
   "execution_count": null,
   "id": "c9ac4048",
   "metadata": {},
   "outputs": [],
   "source": [
    "secenek = input(\"tiyatro için tiyatro, sinema için sinema yazın. öğrenci iseniz öğrenci tiyatro, öğrenci sinema yazınız: \")\n",
    "if secenek ==\"tiyatro\":\n",
    "    print(\"tiyatro = 10TL\")\n",
    "if secenek ==\"sinema\":\n",
    "    print(\"sinema = 15TL\")\n",
    "if secenek ==\"öğrenci sinema\":\n",
    "    print(\"öğrenci sinem = 7.5TL\")\n",
    "if secenek ==\"öğrenci tiyatro\":\n",
    "    print(\"öğrenci tiyatro = 5TL\")\n"
   ]
  },
  {
   "cell_type": "code",
   "execution_count": null,
   "id": "bfb99dad",
   "metadata": {},
   "outputs": [],
   "source": [
    "vize = int(input(\"vize notu giriniz: \"))\n",
    "final = int(input(\"final notu giriniz: \"))\n",
    "proje = int(input(\"proje notu giriniz: \"))\n",
    "\n",
    "ortalama = float(vize*0.3 + final*0.4 + proje*0.3)\n",
    "\n",
    "if 100>ortalama>=90:\n",
    "    print(ortalama, \"AA\")\n",
    "elif 90>ortalama>=80:\n",
    "    print(ortalama, \"BA\")\n",
    "elif 80>ortalama>=70:\n",
    "    print(ortalama, \"BB\")\n",
    "elif 70>ortalama>=60:\n",
    "    print(ortalama, \"CB\")\n",
    "elif 60>ortalama>=50:\n",
    "    print(ortalama, \"CC\")\n",
    "elif 50>ortalama>=45:\n",
    "    print(ortalama, \"DC\")\n",
    "elif 45>ortalama>=40:\n",
    "    print(ortalama, \"FD\")\n",
    "else:\n",
    "    print(ortalama, \"FF\")"
   ]
  },
  {
   "cell_type": "code",
   "execution_count": null,
   "id": "2923a9ae",
   "metadata": {},
   "outputs": [],
   "source": [
    "def toplam(a,b):\n",
    "    c=a+b \n",
    "    return(c)"
   ]
  },
  {
   "cell_type": "code",
   "execution_count": null,
   "id": "94da5631",
   "metadata": {},
   "outputs": [],
   "source": [
    "toplam(12,15)\n"
   ]
  },
  {
   "cell_type": "code",
   "execution_count": null,
   "id": "66ec1b49",
   "metadata": {},
   "outputs": [],
   "source": [
    "def faktorial(n):\n",
    "    if n==0:\n",
    "        return 1\n",
    "    else:\n",
    "        return n * faktorial(n-1)"
   ]
  },
  {
   "cell_type": "code",
   "execution_count": null,
   "id": "e49ef5c4",
   "metadata": {},
   "outputs": [],
   "source": [
    "print(faktorial(6))"
   ]
  },
  {
   "cell_type": "code",
   "execution_count": null,
   "id": "ee103d3c",
   "metadata": {},
   "outputs": [],
   "source": [
    "def asal(sayi):\n",
    "    for i in range(2,sayi):\n",
    "        if sayi%i==0:\n",
    "            return(\"girilen deger asal değildir\")\n",
    "        else:\n",
    "            return(\"girilen deger bir asal sayıdır\")"
   ]
  },
  {
   "cell_type": "code",
   "execution_count": null,
   "id": "7c45e6ad",
   "metadata": {},
   "outputs": [],
   "source": [
    "print(asal(22))"
   ]
  },
  {
   "cell_type": "code",
   "execution_count": null,
   "id": "6565d7b8",
   "metadata": {},
   "outputs": [],
   "source": [
    "def fibonaci(n):\n",
    "    if n<=1:\n",
    "        return n\n",
    "    else:\n",
    "        return fibonaci(n-1)+fibonaci(n-2)"
   ]
  },
  {
   "cell_type": "code",
   "execution_count": null,
   "id": "64913327",
   "metadata": {},
   "outputs": [],
   "source": [
    "print(fibonaci(7))"
   ]
  },
  {
   "cell_type": "code",
   "execution_count": null,
   "id": "8f3433ac",
   "metadata": {},
   "outputs": [],
   "source": [
    "def topla(liste):\n",
    "    toplam = 0\n",
    "    for eleman in liste:\n",
    "        toplam = toplam + eleman\n",
    "    return(toplam)"
   ]
  },
  {
   "cell_type": "code",
   "execution_count": null,
   "id": "01cee840",
   "metadata": {},
   "outputs": [],
   "source": [
    "print(topla([1,2,3,4,5,6]))"
   ]
  },
  {
   "cell_type": "code",
   "execution_count": null,
   "id": "6310d717",
   "metadata": {},
   "outputs": [],
   "source": [
    "def tablo(n):\n",
    "    for i in range(1,n+1):\n",
    "        for j in range(1,n+1):\n",
    "            print(i*j, end=\"\\t\")\n",
    "        print()"
   ]
  },
  {
   "cell_type": "code",
   "execution_count": null,
   "id": "8e6b02ab",
   "metadata": {},
   "outputs": [],
   "source": [
    "tablo(10)"
   ]
  },
  {
   "cell_type": "code",
   "execution_count": null,
   "id": "2c33c416",
   "metadata": {},
   "outputs": [],
   "source": [
    "def carp():\n",
    "    a = int(input(\"deger giriniz: \"))   \n",
    "    b = int(input(\"deger giriniz: \"))    \n",
    "    return a*b"
   ]
  },
  {
   "cell_type": "code",
   "execution_count": null,
   "id": "0a4bc1e3",
   "metadata": {},
   "outputs": [],
   "source": [
    "carp()"
   ]
  },
  {
   "cell_type": "code",
   "execution_count": null,
   "id": "854f3cd6",
   "metadata": {},
   "outputs": [],
   "source": [
    "def islem():\n",
    "    uzun_kenar = int(input(\"uzun kenar degeri giriniz: \"))\n",
    "    kısa_kenar = int(input(\"kısa kenar degeri giriniz: \"))  \n",
    "    cevre = 2*(uzun_kenar+kısa_kenar)\n",
    "    alan = uzun_kenar*kısa_kenar\n",
    "    return print(f\"girilen dikdörtgenin alanı: {alan}, çevresi: {cevre}\")"
   ]
  },
  {
   "cell_type": "code",
   "execution_count": null,
   "id": "7a167747",
   "metadata": {},
   "outputs": [],
   "source": [
    "islem()"
   ]
  },
  {
   "cell_type": "code",
   "execution_count": null,
   "id": "953c62e9",
   "metadata": {},
   "outputs": [],
   "source": [
    "def daire():\n",
    "    yarı_cap = int(input(\"yarı çap degeri giriniz: \"))\n",
    "    pi = 3.14\n",
    "    cevre = 2*pi*yarı_cap\n",
    "    alan = pi*yarı_cap**2\n",
    "    return (f\"girilen dairenin alanı= {alan}, çevresi= {cevre}\")"
   ]
  },
  {
   "cell_type": "code",
   "execution_count": null,
   "id": "a0a67961",
   "metadata": {},
   "outputs": [],
   "source": [
    "daire()"
   ]
  },
  {
   "cell_type": "code",
   "execution_count": null,
   "id": "40aa02de",
   "metadata": {},
   "outputs": [],
   "source": [
    "def sayılar():\n",
    "    a = int(input(\"deger giriniz: \"))   \n",
    "    b = int(input(\"deger giriniz: \")) \n",
    "    c = int(input(\"deger giriniz: \")) \n",
    "    return a * b * c\n"
   ]
  },
  {
   "cell_type": "code",
   "execution_count": null,
   "id": "1f691352",
   "metadata": {},
   "outputs": [],
   "source": [
    "sayılar()"
   ]
  },
  {
   "cell_type": "code",
   "execution_count": null,
   "id": "cda5302f",
   "metadata": {},
   "outputs": [],
   "source": [
    "def liste(liste):\n",
    "    i=0\n",
    "    while i<len(liste):\n",
    "        if liste[i]%2==0:\n",
    "            print(liste[i])\n",
    "        i+=1"
   ]
  },
  {
   "cell_type": "code",
   "execution_count": null,
   "id": "41b4e447",
   "metadata": {},
   "outputs": [],
   "source": [
    "liste([1, 2, 3, 4, 5, 6, 7, 8, 8, 9, 22, 22, 4, 5, 6])"
   ]
  },
  {
   "cell_type": "code",
   "execution_count": null,
   "id": "0089caac",
   "metadata": {},
   "outputs": [],
   "source": [
    "def liste2(liste):\n",
    "    i=0\n",
    "    while i<len(liste):\n",
    "        if liste[i]%2==1:\n",
    "            print(liste[i])\n",
    "        i+=1"
   ]
  },
  {
   "cell_type": "code",
   "execution_count": null,
   "id": "6992ef1e",
   "metadata": {},
   "outputs": [],
   "source": [
    "liste2([1, 2, 3, 4, 5, 6, 7,9, 8, 8, 9, 22, 22, 4, 5, 6])"
   ]
  },
  {
   "cell_type": "code",
   "execution_count": null,
   "id": "839430e8",
   "metadata": {},
   "outputs": [],
   "source": [
    "def liste3():\n",
    "    liste=[]\n",
    "    for i in range(5):\n",
    "        deger = int(input(\"liste degerlerinizi giriniz: \"))\n",
    "        liste.append(deger)\n",
    "    print(liste)"
   ]
  },
  {
   "cell_type": "code",
   "execution_count": null,
   "id": "8ea0a283",
   "metadata": {},
   "outputs": [],
   "source": [
    "liste3()"
   ]
  },
  {
   "cell_type": "code",
   "execution_count": null,
   "id": "e386fe26",
   "metadata": {},
   "outputs": [],
   "source": [
    "isim =\"Ali\"\n",
    "def fonksyon():\n",
    "#     isim = \"Yiğit\"\n",
    "    def altfonksyon():\n",
    "#         isim=\"Bilge\"\n",
    "        print(isim)\n",
    "    altfonksyon()\n",
    "fonksyon()"
   ]
  },
  {
   "cell_type": "code",
   "execution_count": null,
   "id": "e2df385d",
   "metadata": {},
   "outputs": [],
   "source": [
    "x = 10\n",
    "def fonksyon2(x):\n",
    "    print(x)\n",
    "    x=5"
   ]
  },
  {
   "cell_type": "code",
   "execution_count": null,
   "id": "e044db0b",
   "metadata": {},
   "outputs": [],
   "source": [
    "a = 3\n",
    "def ornek():\n",
    "    global a\n",
    "    a=87\n",
    "    print(a)\n",
    "ornek()\n"
   ]
  },
  {
   "cell_type": "code",
   "execution_count": null,
   "id": "ac6103ae",
   "metadata": {},
   "outputs": [],
   "source": [
    "deger = 11\n",
    "def degerdegistir():\n",
    "    global deger\n",
    "    print(f\"değişecek değer {deger}\")\n",
    "    deger =1\n",
    "    print(f\"yeni deger {deger}\")\n",
    "degerdegistir()\n",
    "print(deger)"
   ]
  },
  {
   "cell_type": "code",
   "execution_count": null,
   "id": "b34e9f70",
   "metadata": {},
   "outputs": [],
   "source": [
    "def sumFonksyon(n):\n",
    "    return ((n*(n+1))/2)\n",
    "def main():\n",
    "    sonuc = sumFonksyon(5)\n",
    "    print(sonuc)\n",
    "main()"
   ]
  },
  {
   "cell_type": "code",
   "execution_count": null,
   "id": "a31aab8a",
   "metadata": {},
   "outputs": [],
   "source": [
    "def sorun(n):\n",
    "    if n == 0:\n",
    "        return 0\n",
    "    else:\n",
    "        return(sorun(n-1)+n)\n",
    "def main():\n",
    "    sonuc = sorun(5)\n",
    "    print(sonuc)\n",
    "main()"
   ]
  },
  {
   "cell_type": "code",
   "execution_count": null,
   "id": "7c64f83e",
   "metadata": {},
   "outputs": [],
   "source": [
    "def faktorial(n):\n",
    "    if n == 1:\n",
    "        return 1\n",
    "    else:\n",
    "        return(faktorial(n-1)*n)\n",
    "def ana():\n",
    "    sonuc = faktorial(5)\n",
    "    print(sonuc)\n",
    "ana()"
   ]
  },
  {
   "cell_type": "code",
   "execution_count": null,
   "id": "3759a634",
   "metadata": {},
   "outputs": [],
   "source": [
    "def daire(liste):\n",
    "    alan=[]\n",
    "    for i in liste:\n",
    "        pi = 3.14\n",
    "        alan1 =pi*i*2\n",
    "        cevre1 =pi*i**2\n",
    "        alan.append(alan1)\n",
    "        alan.append(cevre1)\n",
    "    print(f\"girilen dairenin alanı= {alan}\")\n"
   ]
  },
  {
   "cell_type": "code",
   "execution_count": null,
   "id": "a034f0c4",
   "metadata": {},
   "outputs": [],
   "source": [
    "daire([1,2,3,4,5,6,7])"
   ]
  },
  {
   "cell_type": "code",
   "execution_count": null,
   "id": "63f0c284",
   "metadata": {},
   "outputs": [],
   "source": [
    "def asal(a):\n",
    "    sayi = a\n",
    "    for i in range(2,sayi):\n",
    "        if sayi%i== 0:\n",
    "            print(\"girilen deger asal sayıdeğildir\")\n",
    "            return\n",
    "    else:\n",
    "        print(\"girilen deger asal sayıdır\")\n",
    "asal(25)"
   ]
  },
  {
   "cell_type": "code",
   "execution_count": null,
   "id": "40c8689b",
   "metadata": {},
   "outputs": [],
   "source": [
    "sayi = int(input(\"değer giriniz: \"))\n",
    "for i in range(2,sayi):\n",
    "    if sayi%i==0:\n",
    "        print(\"girilen deger asal değildir.\")\n",
    "        break\n",
    "else:\n",
    "    print(\"Sayı asla dır:\")\n"
   ]
  },
  {
   "cell_type": "code",
   "execution_count": null,
   "id": "37c23199",
   "metadata": {},
   "outputs": [],
   "source": [
    "sayi = int(input(\"değer giriniz: \"))\n",
    "i=2\n",
    "while i<sayi:\n",
    "    if sayi%i==0:\n",
    "        print(\"girilen deger asal değildir.\")\n",
    "        break\n",
    "    i+=1\n",
    "        \n",
    "else:\n",
    "    print(\"girilen deger asaldır.\")"
   ]
  },
  {
   "cell_type": "code",
   "execution_count": null,
   "id": "67f9562d",
   "metadata": {},
   "outputs": [],
   "source": [
    "sayi = int(input(\"değer giriniz: \"))\n",
    "if sayi%2==0:\n",
    "    print(\"sayı çifttir\")\n",
    "else:\n",
    "    print(\"sayı tektir\")"
   ]
  },
  {
   "cell_type": "code",
   "execution_count": null,
   "id": "287aa514",
   "metadata": {},
   "outputs": [],
   "source": [
    "sayi = int(input(\"değer giriniz: \"))\n",
    "topla_tek=0\n",
    "topla_cift=0\n",
    "for i in range(1,sayi):\n",
    "    if i%2==0:\n",
    "        topla_cift=topla_cift+i\n",
    "    else:\n",
    "        topla_tek=topla_tek+i\n",
    "print(f\"girilen sayıya kadar olan tek sayıların toplamı= {topla_tek}, çift sayıların toplamı= {topla_cift}\")"
   ]
  },
  {
   "cell_type": "code",
   "execution_count": null,
   "id": "52df4c37",
   "metadata": {},
   "outputs": [],
   "source": [
    "maas = float(input(\"maaş değerini giriniz: \"))\n",
    "zam = float(input(\"zam değerini giriniz: \"))\n",
    "yeniMaas=maas*zam/100+maas\n",
    "print(yeniMaas)"
   ]
  },
  {
   "cell_type": "code",
   "execution_count": null,
   "id": "90aeb489",
   "metadata": {},
   "outputs": [],
   "source": [
    "a = int(input(\"değer giriniz: \"))\n",
    "b = int(input(\"değer giriniz: \"))\n",
    "toplama = a + b\n",
    "carpma = a * b\n",
    "bölme = a / b\n",
    "cıkarma = a - b\n",
    "print(f\"girilen değerlerin \\n toplamı= {toplama} \\n carpımı = {carpma} \\n bölümü = {bölme} \\n çıkarması = {cıkarma}\")"
   ]
  },
  {
   "cell_type": "code",
   "execution_count": null,
   "id": "ae098ae7",
   "metadata": {},
   "outputs": [],
   "source": [
    "a = int(input(\"değer giriniz: \"))\n",
    "b = int(input(\"değer giriniz: \"))\n",
    "islem = input(\"işlem giriniz: \")\n",
    "if islem == \"+\":\n",
    "    toplama = a + b\n",
    "    print(toplama)\n",
    "elif islem == \"-\":\n",
    "    cıkarma = a - b\n",
    "    print(cıkarma)\n",
    "elif islem == \"/\":\n",
    "    bolme = a - b\n",
    "    print(bolme)\n",
    "elif islem == \"*\":\n",
    "    carpma = a * b\n",
    "    print(carpma)\n",
    "else:\n",
    "    print(\"Geçerli değer giriniz\")\n",
    "    "
   ]
  },
  {
   "cell_type": "code",
   "execution_count": null,
   "id": "e0b5ad5c",
   "metadata": {},
   "outputs": [],
   "source": [
    "def daire(r):\n",
    "    pi = 3.14\n",
    "    alan = pi*r**2\n",
    "    print(f\"girilen dairenin alanı= {alan}\")"
   ]
  },
  {
   "cell_type": "code",
   "execution_count": null,
   "id": "70bd3fc9",
   "metadata": {},
   "outputs": [],
   "source": [
    "daire(3)"
   ]
  },
  {
   "cell_type": "code",
   "execution_count": null,
   "id": "168b8236",
   "metadata": {},
   "outputs": [],
   "source": [
    "def dikdortgen(u_kenar,k_kenar):\n",
    "    alan = u_kenar*k_kenar\n",
    "    print(f\"girilen dikdörgenin alanı= {alan}\")"
   ]
  },
  {
   "cell_type": "code",
   "execution_count": null,
   "id": "66951e58",
   "metadata": {},
   "outputs": [],
   "source": [
    "dikdortgen(12,6)"
   ]
  },
  {
   "cell_type": "code",
   "execution_count": null,
   "id": "ec93b95a",
   "metadata": {},
   "outputs": [],
   "source": [
    "def ucgen(taban,h):\n",
    "    alan = taban*h/2\n",
    "    print(f\"girilen üçgenin alanı= {alan}\")\n",
    "ucgen(7,6)"
   ]
  },
  {
   "cell_type": "code",
   "execution_count": null,
   "id": "07fa6d0c",
   "metadata": {},
   "outputs": [],
   "source": [
    "taban = int(input(\"değer giriniz: \"))\n",
    "h = int(input(\"değer giriniz: \"))\n",
    "alan = taban*h/2\n",
    "print(alan)"
   ]
  },
  {
   "cell_type": "code",
   "execution_count": null,
   "id": "7a2bfaf0",
   "metadata": {},
   "outputs": [],
   "source": [
    "a = int(input(\"değer giriniz: \"))\n",
    "alan1 = a*a\n",
    "cevre1 = 4*a\n",
    "print(f\"girilen karenin alanı= {alan1} çevresi= {cevre1}\")"
   ]
  },
  {
   "cell_type": "code",
   "execution_count": null,
   "id": "a6f4cd15",
   "metadata": {},
   "outputs": [],
   "source": [
    "bir = int(input(\"Birinci kenar uzunluğunu giriniz: \"))\n",
    "iki = int(input(\"İkinci kenar uzunluğunu giriniz: \"))\n",
    "uc = int(input(\"Üçüncü kenar uzunluğunu giriniz: \"))\n",
    "\n",
    "if bir == iki == uc:\n",
    "    print(\"Girilen üçgen eşkenar üçgen\")\n",
    "elif bir == iki or bir == uc or iki == uc:\n",
    "    print(\"Girilen üçgen ikizkenar üçgen\")\n",
    "else:\n",
    "    print(\"Girilen üçgen çeşitkenar üçgen\")\n",
    "   "
   ]
  },
  {
   "cell_type": "code",
   "execution_count": null,
   "id": "313841f7",
   "metadata": {},
   "outputs": [],
   "source": [
    "bir = int(input(\"Birinci kenar uzunluğunu giriniz: \"))\n",
    "iki = int(input(\"İkinci kenar uzunluğunu giriniz: \"))\n",
    "uc = int(input(\"Üçüncü kenar uzunluğunu giriniz: \"))\n",
    "if bir != iki and iki != uc:\n",
    "    print(\"çeşitkenar değildir\")\n",
    "else:\n",
    "    print(\"çeşitkenar üçgen\")"
   ]
  },
  {
   "cell_type": "code",
   "execution_count": null,
   "id": "4bbf9891",
   "metadata": {},
   "outputs": [],
   "source": [
    "sayi = int(input(\"Değer giriniz: \"))\n",
    "for i in range(2,sayi):\n",
    "    if sayi%i== 0:\n",
    "        print(\"girilen deger asal sayıdeğildir\")\n",
    "        break\n",
    "else:\n",
    "    print(\"girilen deger asal sayıdır\")      "
   ]
  },
  {
   "cell_type": "code",
   "execution_count": null,
   "id": "c0be9e5d",
   "metadata": {},
   "outputs": [],
   "source": [
    "def asal_sayi(a):\n",
    "    for i in range(2,a):\n",
    "        if a%i==0:\n",
    "            print(\"girilen değer asal sayı değildir.\")\n",
    "            break\n",
    "    else:\n",
    "        print(\"girilen değer bir asal sayıdır.\")"
   ]
  },
  {
   "cell_type": "code",
   "execution_count": null,
   "id": "571515e7",
   "metadata": {},
   "outputs": [],
   "source": [
    "asal_sayi(33)"
   ]
  },
  {
   "cell_type": "code",
   "execution_count": null,
   "id": "1e503afd",
   "metadata": {},
   "outputs": [],
   "source": [
    "def sayi(a):\n",
    "    if a==1:\n",
    "        return 1\n",
    "    else:\n",
    "        return (sayi(a-1)*a)\n",
    "def main():\n",
    "    sonuc=sayi(5)\n",
    "    print(sonuc)\n",
    "main()"
   ]
  },
  {
   "cell_type": "code",
   "execution_count": null,
   "id": "d7c148cd",
   "metadata": {},
   "outputs": [],
   "source": [
    "def faktorial(n):\n",
    "    if n == 1:\n",
    "        return 1\n",
    "    else:\n",
    "        return(faktorial(n-1)*n)\n",
    "def ana():\n",
    "    sonuc = faktorial(5)\n",
    "    print(sonuc)\n",
    "ana()"
   ]
  },
  {
   "cell_type": "code",
   "execution_count": null,
   "id": "dccbe693",
   "metadata": {},
   "outputs": [],
   "source": [
    "def yeni(n):\n",
    "    if n == 1:\n",
    "        return 1\n",
    "    else:\n",
    "        return (yeni(n-1)*n)\n",
    "def net():\n",
    "    sonuc = yeni(5)\n",
    "    print(sonuc)\n",
    "net()"
   ]
  },
  {
   "cell_type": "code",
   "execution_count": null,
   "id": "f2aa2752",
   "metadata": {},
   "outputs": [],
   "source": [
    "def kombinasyon(a):\n",
    "    if a == 1:\n",
    "        return 1\n",
    "    else:\n",
    "        return (kombinasyon(a-1)+a)\n",
    "\n",
    "def ana():\n",
    "    sonuc = kombinasyon(81)\n",
    "    print(sonuc)"
   ]
  },
  {
   "cell_type": "code",
   "execution_count": null,
   "id": "b333096a",
   "metadata": {},
   "outputs": [],
   "source": [
    "ana()"
   ]
  },
  {
   "cell_type": "code",
   "execution_count": null,
   "id": "75a63a9c",
   "metadata": {},
   "outputs": [],
   "source": [
    "liste = []\n",
    "for i in range(5):\n",
    "    sayi = int(input(\"deger giriniz: \"))\n",
    "    liste.append(sayi)\n",
    "print(liste)\n",
    "\n",
    "liste2 = []\n",
    "for i in liste:\n",
    "    if i % 3 != 0:\n",
    "        liste2.append(i)\n",
    "print(len(liste2))"
   ]
  },
  {
   "cell_type": "code",
   "execution_count": null,
   "id": "a6390371",
   "metadata": {},
   "outputs": [],
   "source": [
    "liste_r = []\n",
    "for i in range(10):\n",
    "    r = int(input(\"deger giriniz: \"))\n",
    "    liste_r.append(r)\n",
    "for i in liste_r:\n",
    "    pi = 3.14\n",
    "    alan = pi*i*2\n",
    "    cevre = pi*i**2\n",
    "    print(f\"alan = {alan} cevre = {cevre}\")"
   ]
  },
  {
   "cell_type": "code",
   "execution_count": null,
   "id": "64bcc3fb",
   "metadata": {},
   "outputs": [],
   "source": [
    "Not = []\n",
    "notlar = []\n",
    "for i in range(4):\n",
    "    sınav = int(input(\"sınav notunu giriniz: \"))\n",
    "    Not.append(sınav)\n",
    "for i in Not:\n",
    "    if i > 60:\n",
    "        notlar.append(i)\n",
    "toplam = 0\n",
    "for i in notlar:\n",
    "    toplam = toplam + i\n",
    "    \n",
    "print(notlar)\n",
    "print(toplam/len(notlar))"
   ]
  },
  {
   "cell_type": "code",
   "execution_count": 26,
   "id": "37043885",
   "metadata": {},
   "outputs": [
    {
     "name": "stdout",
     "output_type": "stream",
     "text": [
      "2900.5\n"
     ]
    }
   ],
   "source": [
    "urunler = {\"araba1\": 1234, \"araba2\": 2345, \"araba3\": 3456, \"araba4\": 4567}\n",
    "fiyat = 0\n",
    "sayı = 0\n",
    "for araba, deger in urunler.items():\n",
    "    fiyat = fiyat + deger\n",
    "    sayı += 1\n",
    "print(fiyat / sayı)"
   ]
  },
  {
   "cell_type": "code",
   "execution_count": null,
   "id": "f5a951f3",
   "metadata": {},
   "outputs": [],
   "source": [
    "urunler1 = {\"araba\": 1234, \"araba1\": 2345, \"araba2\": 3456, \"araba3\": 5678, \"araba4\": 6789}\n",
    "toplam = 0\n",
    "sayi = 0\n",
    "for a,f in urunler1.items():\n",
    "    toplam = toplam + f\n",
    "    sayi +=1\n",
    "print(toplam)\n",
    "print(sayi)\n",
    "print(toplam/sayi)"
   ]
  },
  {
   "cell_type": "code",
   "execution_count": null,
   "id": "e49fee59",
   "metadata": {},
   "outputs": [],
   "source": [
    "def faktorial(a):\n",
    "    if a == 1:\n",
    "        return 1\n",
    "    else:\n",
    "        return (faktorial(a-1)*a)\n",
    "def main():\n",
    "    sonuc = faktorial(7)\n",
    "    print(sonuc)\n",
    "main()"
   ]
  },
  {
   "cell_type": "code",
   "execution_count": null,
   "id": "295ffdda",
   "metadata": {},
   "outputs": [],
   "source": [
    "isim = \"Ali\"\n",
    "def fonksyon():\n",
    "    isim = \"Yusuf\"  # Global\n",
    "    print(isim)\n",
    "    def altfonksyon():\n",
    "        isim = \"Deniz\"  #Local\n",
    "        print(isim)\n",
    "    altfonksyon()\n",
    "fonksyon()\n",
    "print(isim)"
   ]
  },
  {
   "cell_type": "code",
   "execution_count": null,
   "id": "13dcf344",
   "metadata": {},
   "outputs": [],
   "source": [
    "liste=[1,2,2,4,3,5,6,8,12]\n",
    "i = 0\n",
    "while i < len(liste):\n",
    "    if liste[i] % 2 == 0:\n",
    "        liste.pop(i)\n",
    "    else:\n",
    "        i += 1\n",
    "print(liste)"
   ]
  },
  {
   "cell_type": "code",
   "execution_count": null,
   "id": "1aa5f92f",
   "metadata": {},
   "outputs": [],
   "source": [
    "sayi = int(input(\"sayi giriniz: \"))\n",
    "for i in range(2,sayi):\n",
    "    if sayi % i == 0:\n",
    "        print(\"girilen değer bir asal sayı değildir.\")\n",
    "        break\n",
    "else:\n",
    "    print(\"girilen değer bir asal sayıdır.\")"
   ]
  },
  {
   "cell_type": "code",
   "execution_count": null,
   "id": "c7d941fe",
   "metadata": {},
   "outputs": [],
   "source": [
    "liste = []\n",
    "for i in range(5):\n",
    "    degerler = int(input(\"değerleri giriniz: \"))\n",
    "    sayi = degerler**0.5\n",
    "    liste.append(sayi)\n",
    "print(liste)\n",
    "liste.sort()\n",
    "liste.reverse()\n",
    "print(liste)"
   ]
  },
  {
   "cell_type": "code",
   "execution_count": 5,
   "id": "e60cc485",
   "metadata": {},
   "outputs": [
    {
     "name": "stdout",
     "output_type": "stream",
     "text": [
      "değişecek değer 100\n",
      "yeni değer 12\n",
      "12\n"
     ]
    }
   ],
   "source": [
    "deger = 100\n",
    "def degerdegistir():\n",
    "    global deger\n",
    "    print(f\"değişecek değer {deger}\")\n",
    "    deger = 12\n",
    "    print(f\"yeni değer {deger}\")\n",
    "degerdegistir()\n",
    "print(deger)"
   ]
  },
  {
   "cell_type": "code",
   "execution_count": 9,
   "id": "67b0f5a8",
   "metadata": {},
   "outputs": [
    {
     "name": "stdout",
     "output_type": "stream",
     "text": [
      "15\n"
     ]
    }
   ],
   "source": [
    "def toplama(n):\n",
    "    if n == 0:\n",
    "        return 0\n",
    "    else:\n",
    "        return (toplama(n-1)+n)\n",
    "def ana():\n",
    "    sonuc = toplama(5)\n",
    "    print(sonuc)\n",
    "ana()"
   ]
  },
  {
   "cell_type": "code",
   "execution_count": 4,
   "id": "fedadf44",
   "metadata": {},
   "outputs": [
    {
     "name": "stdout",
     "output_type": "stream",
     "text": [
      "girilen değer asal sayı değpildir.\n"
     ]
    }
   ],
   "source": [
    "def asal(n):\n",
    "    for i in range(2,n):\n",
    "        if n % i == 0:\n",
    "            print(\"girilen değer asal sayı değildir.\")\n",
    "            break\n",
    "    else:\n",
    "        print(\"Girilen değer bir asal sayıdır.\")\n",
    "asal(25)"
   ]
  },
  {
   "cell_type": "code",
   "execution_count": 10,
   "id": "1063a989",
   "metadata": {},
   "outputs": [
    {
     "name": "stdout",
     "output_type": "stream",
     "text": [
      "Yusuf\n",
      "Deniz\n",
      "Ali\n"
     ]
    }
   ],
   "source": [
    "isim = \"Ali\"\n",
    "\n",
    "def fonksyon():\n",
    "    isim = \"Yusuf\"\n",
    "    print(isim)\n",
    "    def altfonksyon():\n",
    "        isim = \"Deniz\"\n",
    "        print(isim)\n",
    "    altfonksyon()\n",
    "fonksyon()\n",
    "print(isim)"
   ]
  },
  {
   "cell_type": "code",
   "execution_count": 12,
   "id": "a9385157",
   "metadata": {},
   "outputs": [
    {
     "name": "stdout",
     "output_type": "stream",
     "text": [
      "Değişecek değer 10\n",
      "Yeni değer 21\n",
      "21\n"
     ]
    }
   ],
   "source": [
    "deger = 10\n",
    "def sayi():\n",
    "    global deger\n",
    "    print(f\"Değişecek değer {deger}\")\n",
    "    deger = 21\n",
    "    print(f\"Yeni değer {deger}\")\n",
    "sayi()\n",
    "print(deger)"
   ]
  },
  {
   "cell_type": "code",
   "execution_count": 15,
   "id": "2ecc9a1c",
   "metadata": {},
   "outputs": [
    {
     "name": "stdout",
     "output_type": "stream",
     "text": [
      "120\n"
     ]
    }
   ],
   "source": [
    "def faktorial(n):\n",
    "    if n == 1:\n",
    "        return 1\n",
    "    else:\n",
    "        return (faktorial(n - 1)* n)\n",
    "def anam():\n",
    "    sonuc = faktorial(5)\n",
    "    print(sonuc)\n",
    "anam()"
   ]
  },
  {
   "cell_type": "code",
   "execution_count": 17,
   "id": "84f59c98",
   "metadata": {},
   "outputs": [
    {
     "name": "stdout",
     "output_type": "stream",
     "text": [
      "55\n"
     ]
    }
   ],
   "source": [
    "def toplama(a):\n",
    "    if a == 0:\n",
    "        return 0\n",
    "    else:\n",
    "        return (toplama(a - 1) + a)\n",
    "def sayi():\n",
    "    sonuc = toplama(10)\n",
    "    print(sonuc)\n",
    "sayi()"
   ]
  },
  {
   "cell_type": "code",
   "execution_count": 22,
   "id": "76ba9a09",
   "metadata": {},
   "outputs": [
    {
     "name": "stdout",
     "output_type": "stream",
     "text": [
      "[1, 3, 5]\n"
     ]
    }
   ],
   "source": [
    "liste=[1,2,2,4,3,5,6,8,12]\n",
    "i = 0\n",
    "while i < len(liste):\n",
    "    if liste[i] % 2 == 0:\n",
    "        liste.pop(i)\n",
    "    else:\n",
    "        i +=1\n",
    "print(liste)"
   ]
  },
  {
   "cell_type": "code",
   "execution_count": 28,
   "id": "5ca077e4",
   "metadata": {},
   "outputs": [
    {
     "name": "stdout",
     "output_type": "stream",
     "text": [
      "11602\n",
      "2900.5\n"
     ]
    }
   ],
   "source": [
    "urunler= {\"araba1\":1234, \"araba2\":2345, \"araba3\":3456, \"araba4\":4567}\n",
    "toplam = 0\n",
    "sayi = 0\n",
    "for araba, fiyat in urunler.items():\n",
    "    toplam = toplam + fiyat \n",
    "    sayi += 1\n",
    "print(toplam)\n",
    "print(toplam/sayi)"
   ]
  },
  {
   "cell_type": "code",
   "execution_count": 31,
   "id": "55047a21",
   "metadata": {},
   "outputs": [
    {
     "name": "stdout",
     "output_type": "stream",
     "text": [
      "1. ürün adını girin: araba\n",
      "1. ürün fiyatını girin: 10\n",
      "2. ürün adını girin: motor\n",
      "2. ürün fiyatını girin: 5\n",
      "3. ürün adını girin: traktör\n",
      "3. ürün fiyatını girin: 30\n",
      "4. ürün adını girin: uçak\n",
      "4. ürün fiyatını girin: 1000\n",
      "Girilen Ürünler ve Fiyatları:\n",
      "araba: 10.0\n",
      "motor: 5.0\n",
      "traktör: 30.0\n",
      "uçak: 1000.0\n",
      "{'araba': 10.0, 'motor': 5.0, 'traktör': 30.0, 'uçak': 1000.0}\n"
     ]
    }
   ],
   "source": [
    "urunler = {}\n",
    "\n",
    "# 4 kez döngüyü tekrarla\n",
    "for i in range(4):\n",
    "    urun_adi = input(f\"{i+1}. ürün adını girin: \")\n",
    "    fiyat = float(input(f\"{i+1}. ürün fiyatını girin: \"))\n",
    "    urunler[urun_adi] = fiyat\n",
    "\n",
    "# Girilen ürünleri ve fiyatlarını göster\n",
    "print(\"Girilen Ürünler ve Fiyatları:\")\n",
    "for urun, fiyat in urunler.items():\n",
    "    print(f\"{urun}: {fiyat}\")\n",
    "print(urunler)"
   ]
  },
  {
   "cell_type": "code",
   "execution_count": 34,
   "id": "bc719677",
   "metadata": {},
   "outputs": [
    {
     "name": "stdout",
     "output_type": "stream",
     "text": [
      "değer giriniz: 81\n",
      "3321\n"
     ]
    }
   ],
   "source": [
    "sayi = int(input(\"değer giriniz: \"))\n",
    "toplam = 0\n",
    "for i in range(0,sayi+1):\n",
    "    toplam = toplam + i\n",
    "print(toplam)"
   ]
  },
  {
   "cell_type": "code",
   "execution_count": 37,
   "id": "c89c585a",
   "metadata": {},
   "outputs": [
    {
     "name": "stdout",
     "output_type": "stream",
     "text": [
      "değiştirilecek değer 11\n",
      "yeni değer 21\n",
      "21\n"
     ]
    }
   ],
   "source": [
    "deger = 11\n",
    "def degerdegistir():\n",
    "    global deger\n",
    "    print(f\"değiştirilecek değer {deger}\")\n",
    "    \n",
    "    deger = 21\n",
    "    print(f\"yeni değer {deger}\")\n",
    "degerdegistir()\n",
    "print(deger)"
   ]
  },
  {
   "cell_type": "code",
   "execution_count": 51,
   "id": "33b01136",
   "metadata": {},
   "outputs": [
    {
     "name": "stdout",
     "output_type": "stream",
     "text": [
      "Gülsena Yerebasmaz\n",
      "Gülsena \n"
     ]
    }
   ],
   "source": [
    "isim = \"Gülsena \"\n",
    "def fonksyon():\n",
    "    isim = \"Gülsena Yerebasmaz\"\n",
    "    print(isim)\n",
    "\n",
    "    def alt():\n",
    "        isim = \"Gülsena Bilen\"\n",
    "        print(isim)\n",
    "\n",
    "fonksyon()\n",
    "print(isim)"
   ]
  },
  {
   "cell_type": "code",
   "execution_count": 4,
   "id": "b9067b28",
   "metadata": {},
   "outputs": [
    {
     "name": "stdout",
     "output_type": "stream",
     "text": [
      "36\n"
     ]
    }
   ],
   "source": [
    "def permutasyon(n):\n",
    "    if n == 0:\n",
    "        return 0\n",
    "    else:\n",
    "        return (permutasyon(n-1)+n)\n",
    "def denge():\n",
    "    sonuc = permutasyon(8)\n",
    "    print(sonuc)\n",
    "denge()"
   ]
  },
  {
   "cell_type": "code",
   "execution_count": 9,
   "id": "1b025605",
   "metadata": {},
   "outputs": [
    {
     "name": "stdout",
     "output_type": "stream",
     "text": [
      "Gülsena Bilen\n",
      "Gülsena Bilen\n",
      "Gülsena\n"
     ]
    }
   ],
   "source": [
    "isim =\"Gülsena\"\n",
    "def isim1():\n",
    "    isim = \"Gülsena Bilen\"\n",
    "    print(isim)\n",
    "    def soyisim():\n",
    "        isim = \"Gülsena Bilen\"\n",
    "        print(isim)\n",
    "    soyisim()\n",
    "isim1()\n",
    "print(isim)"
   ]
  },
  {
   "cell_type": "code",
   "execution_count": 21,
   "id": "5d15b260",
   "metadata": {},
   "outputs": [
    {
     "name": "stdout",
     "output_type": "stream",
     "text": [
      " Toplam_fiyat      = 11602 \n",
      " Ürün sayısı       = 4 \n",
      " Ürün ortalamaları = 2900.5\n"
     ]
    }
   ],
   "source": [
    "urunler= {\"araba1\":1234, \"araba2\":2345, \"araba3\":3456, \"araba4\":4567}\n",
    "toplam_fiyat = 0\n",
    "sayi = 0\n",
    "for araba, fiyat in urunler.items():\n",
    "    toplam_fiyat = toplam_fiyat + fiyat \n",
    "    sayi +=1\n",
    "ortalama = toplam_fiyat / sayi\n",
    "print(f\" Toplam_fiyat      = {toplam_fiyat} \\n Ürün sayısı       = {sayi} \\n Ürün ortalamaları = {ortalama}\" )"
   ]
  },
  {
   "cell_type": "code",
   "execution_count": 26,
   "id": "b807066a",
   "metadata": {},
   "outputs": [
    {
     "name": "stdout",
     "output_type": "stream",
     "text": [
      "[1, 3, 5]\n"
     ]
    }
   ],
   "source": [
    "liste=[1,2,2,4,3,5,6,8,12]\n",
    "i = 0\n",
    "while i < len(liste):\n",
    "    if liste[i] % 2 == 0:\n",
    "        liste.pop(i)\n",
    "    else:\n",
    "        i +=1\n",
    "print(liste)"
   ]
  },
  {
   "cell_type": "code",
   "execution_count": null,
   "id": "3ead02ac",
   "metadata": {},
   "outputs": [],
   "source": []
  }
 ],
 "metadata": {
  "kernelspec": {
   "display_name": "Python 3 (ipykernel)",
   "language": "python",
   "name": "python3"
  },
  "language_info": {
   "codemirror_mode": {
    "name": "ipython",
    "version": 3
   },
   "file_extension": ".py",
   "mimetype": "text/x-python",
   "name": "python",
   "nbconvert_exporter": "python",
   "pygments_lexer": "ipython3",
   "version": "3.11.5"
  }
 },
 "nbformat": 4,
 "nbformat_minor": 5
}
